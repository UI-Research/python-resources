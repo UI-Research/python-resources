{
  "nbformat": 4,
  "nbformat_minor": 0,
  "metadata": {
    "colab": {
      "name": "Urban Institute: Python Users Group - String Formatting.ipynb",
      "provenance": [],
      "collapsed_sections": []
    },
    "kernelspec": {
      "name": "python3",
      "display_name": "Python 3"
    },
    "language_info": {
      "name": "python"
    }
  },
  "cells": [
    {
      "cell_type": "markdown",
      "source": [
        "# Urban Institute: Python Users Group - String Formatting \n",
        "\n",
        "Over the years, Python has introduced several new methods of formatting strings. As a result, folks who first learned how to write Python through earlier versions may not have been introduced to the new and improved syntax. \n",
        "\n",
        "Here, we walk through a few older methods of string formatting in Python using a simple example, and end with the latest (and recommended) [f-string syntax](https://docs.python.org/3/tutorial/inputoutput.html#tut-f-strings) for interpolation. \n"
      ],
      "metadata": {
        "id": "-3ecMfI6JwDP"
      }
    },
    {
      "cell_type": "code",
      "execution_count": 1,
      "metadata": {
        "id": "K-03OCDXJjOM"
      },
      "outputs": [],
      "source": [
        "name = 'Erika'\n",
        "age = 10\n",
        "neighborhood = 'Mt. Pleasant'"
      ]
    },
    {
      "cell_type": "markdown",
      "source": [
        "## Older Methods ⛔\n",
        "\n",
        "While it technically works to use the `+` operator for string concatenation in Python, this can get unwieldy very quickly. "
      ],
      "metadata": {
        "id": "Gn35H_S2LtMr"
      }
    },
    {
      "cell_type": "code",
      "source": [
        "# String concatenation  \n",
        "print('My name is ' + name + ', I am ' + str(age) + ' years old, and I live in ' + neighborhood + '.')"
      ],
      "metadata": {
        "colab": {
          "base_uri": "https://localhost:8080/"
        },
        "id": "K0QFxtn4qo0k",
        "outputId": "4f0aef92-71b8-40bb-ebe4-d0a736ee4f82"
      },
      "execution_count": 2,
      "outputs": [
        {
          "output_type": "stream",
          "name": "stdout",
          "text": [
            "My name is Erika, I am 10 years old, and I live in Mt. Pleasant.\n"
          ]
        }
      ]
    },
    {
      "cell_type": "markdown",
      "source": [
        "The [oldest string formatting method](https://docs.python.org/3/library/stdtypes.html#old-string-formatting) in Python used the modulo `%` operator to separate strings from values, and can be particularly hard to read as the number and complexity of expressions grow. This method has been deprecated and will be altogether removed from future versions of Python! "
      ],
      "metadata": {
        "id": "hI1XkuK2rX87"
      }
    },
    {
      "cell_type": "code",
      "source": [
        "# Oldest style \n",
        "print('My name is %s, I am %d years old, and I live in %s.' % (name, age, neighborhood))"
      ],
      "metadata": {
        "colab": {
          "base_uri": "https://localhost:8080/"
        },
        "id": "oOBEelywJqXR",
        "outputId": "0ebc90e9-1591-41f9-e484-71d7c043c161"
      },
      "execution_count": 3,
      "outputs": [
        {
          "output_type": "stream",
          "name": "stdout",
          "text": [
            "My name is Erika, I am 10 years old, and I live in Mt. Pleasant.\n"
          ]
        }
      ]
    },
    {
      "cell_type": "markdown",
      "source": [
        "The [`str.format()` method](https://docs.python.org/3/tutorial/inputoutput.html#the-string-format-method) was introduced in Python 3, and can improve readability – especially when using a dictionary to pass expressions into the string. This syntax uses curly braces `{}` to pass variables into the string and the `format()` method."
      ],
      "metadata": {
        "id": "IN5wL6d-XlB1"
      }
    },
    {
      "cell_type": "code",
      "source": [
        "# Older style - included in Python 3+ \n",
        "print('My name is {}, I am {} years old, and I live in {}.'.format(name, neighborhood, age))"
      ],
      "metadata": {
        "colab": {
          "base_uri": "https://localhost:8080/"
        },
        "id": "Wquc_rKvJrVG",
        "outputId": "ac395ddc-fa34-475a-8ae4-69eac1a2fd06"
      },
      "execution_count": 4,
      "outputs": [
        {
          "output_type": "stream",
          "name": "stdout",
          "text": [
            "My name is Erika, I am Mt. Pleasant years old, and I live in 10.\n"
          ]
        }
      ]
    },
    {
      "cell_type": "code",
      "source": [
        "# Older style, but with a dictionary \n",
        "d = {'age': 10, 'name': 'Erika', 'neighborhood': 'Mt. Pleasant'}\n",
        "print('My name is {name}, I am {age} years old, and I live in {neighborhood}.'.format(**d))"
      ],
      "metadata": {
        "colab": {
          "base_uri": "https://localhost:8080/"
        },
        "id": "H9Va9iU7Jqeu",
        "outputId": "14965b36-c55c-4c36-8679-19c039a1792a"
      },
      "execution_count": 5,
      "outputs": [
        {
          "output_type": "stream",
          "name": "stdout",
          "text": [
            "My name is Erika, I am 10 years old, and I live in Mt. Pleasant.\n"
          ]
        }
      ]
    },
    {
      "cell_type": "markdown",
      "source": [
        "## Newest Method ✅\n",
        "\n",
        "In Python 3.6, f-strings (short for [formatted string literals](https://docs.python.org/3/tutorial/inputoutput.html#tut-f-strings)) were introduced. With this syntax, the string is prefaced with `f` or `F`, and expressions are wrapped in braces as `{expression}` and evaluated at runtime – meaning you can pass any valid Python expressions into them.\n",
        "\n",
        "We highly recommend this syntax for more readable, more concise, less error-prone, and faster string formatting! "
      ],
      "metadata": {
        "id": "Ka5eT0m6LyO0"
      }
    },
    {
      "cell_type": "code",
      "source": [
        "# New style - included in Python 3.6+  \n",
        "print(f'My name is {name}, I am {age} years old, and I live in {neighborhood}.')"
      ],
      "metadata": {
        "colab": {
          "base_uri": "https://localhost:8080/"
        },
        "id": "nFc5lOX8Jqku",
        "outputId": "ee5873f9-dc9b-48aa-a7c8-b1faa11df21c"
      },
      "execution_count": 6,
      "outputs": [
        {
          "output_type": "stream",
          "name": "stdout",
          "text": [
            "My name is Erika, I am 10 years old, and I live in Mt. Pleasant.\n"
          ]
        }
      ]
    },
    {
      "cell_type": "code",
      "source": [
        "# New style, but with an evaluated expression \n",
        "print(f'My name is {name}, I am {age * 2} years old, and I live in {neighborhood}.')"
      ],
      "metadata": {
        "colab": {
          "base_uri": "https://localhost:8080/"
        },
        "id": "0x9AEI-Rlrin",
        "outputId": "492446d3-a5eb-431a-f48d-5bff9af48a23"
      },
      "execution_count": 7,
      "outputs": [
        {
          "output_type": "stream",
          "name": "stdout",
          "text": [
            "My name is Erika, I am 20 years old, and I live in Mt. Pleasant.\n"
          ]
        }
      ]
    }
  ]
}