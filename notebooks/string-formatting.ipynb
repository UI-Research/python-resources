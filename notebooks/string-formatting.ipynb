{
  "nbformat": 4,
  "nbformat_minor": 0,
  "metadata": {
    "colab": {
      "name": "Urban Institute: Python Users Group - String Formatting.ipynb",
      "provenance": [],
      "collapsed_sections": []
    },
    "kernelspec": {
      "name": "python3",
      "display_name": "Python 3"
    },
    "language_info": {
      "name": "python"
    }
  },
  "cells": [
    {
      "cell_type": "markdown",
      "source": [
        "# Urban Institute: Python Users Group - String Formatting \n",
        "\n",
        "Over the years, Python has introduced several new methods of formatting strings. As a result, folks who first learned how to write Python through earlier versions may not have been introduced to the new and improved syntax. \n",
        "\n",
        "Here, we walk through a few older methods of string formatting in Python using a simple example, and end with the latest (and recommended) [f-string syntax](https://docs.python.org/3/tutorial/inputoutput.html#tut-f-strings). "
      ],
      "metadata": {
        "id": "-3ecMfI6JwDP"
      }
    },
    {
      "cell_type": "markdown",
      "source": [
        "## Older Methods \n",
        "The [oldest string formatting method](https://docs.python.org/3/library/stdtypes.html#old-string-formatting) in Python used the modulo `%` operator to separate strings from values, and can be particularly hard to read as the number and complexity of expressions grow."
      ],
      "metadata": {
        "id": "Gn35H_S2LtMr"
      }
    },
    {
      "cell_type": "code",
      "execution_count": 1,
      "metadata": {
        "id": "K-03OCDXJjOM"
      },
      "outputs": [],
      "source": [
        "name = 'Erika'\n",
        "age = 10\n",
        "neighborhood = 'Mt. Pleasant'"
      ]
    },
    {
      "cell_type": "code",
      "source": [
        "# Oldest style \n",
        "print('My name is %s, I am %d years old, and I live in %s.' % (name, age, neighborhood))"
      ],
      "metadata": {
        "colab": {
          "base_uri": "https://localhost:8080/"
        },
        "id": "oOBEelywJqXR",
        "outputId": "887c1bb1-bbd5-4223-c6c7-52ead122baca"
      },
      "execution_count": 2,
      "outputs": [
        {
          "output_type": "stream",
          "name": "stdout",
          "text": [
            "My name is Erika, I am 10 years old, and I live in Mt. Pleasant.\n"
          ]
        }
      ]
    },
    {
      "cell_type": "markdown",
      "source": [
        "The [`str.format()` method](https://docs.python.org/3/tutorial/inputoutput.html#the-string-format-method) was introduced in Python 3, and can improve readability – especially when using a dictionary or list to pass expressions into the string. "
      ],
      "metadata": {
        "id": "IN5wL6d-XlB1"
      }
    },
    {
      "cell_type": "code",
      "source": [
        "# Older style - included in Python 3+ \n",
        "print('My name is {}, I am {} years old, and I live in {}.'.format(name, age, neighborhood))"
      ],
      "metadata": {
        "colab": {
          "base_uri": "https://localhost:8080/"
        },
        "id": "Wquc_rKvJrVG",
        "outputId": "9383fa09-376c-46fb-c7fd-504c7d197663"
      },
      "execution_count": 3,
      "outputs": [
        {
          "output_type": "stream",
          "name": "stdout",
          "text": [
            "My name is Erika, I am 10 years old, and I live in Mt. Pleasant.\n"
          ]
        }
      ]
    },
    {
      "cell_type": "code",
      "source": [
        "# Older style, but with a dictionary \n",
        "d = {'age': 10, 'name': 'Erika', 'neighborhood': 'Mt. Pleasant'}\n",
        "print('My name is {name}, I am {age} years old, and I live in {neighborhood}.'.format(**d))"
      ],
      "metadata": {
        "colab": {
          "base_uri": "https://localhost:8080/"
        },
        "id": "H9Va9iU7Jqeu",
        "outputId": "9b032fbc-74e0-4746-cd5b-1cffc9b50cfe"
      },
      "execution_count": 4,
      "outputs": [
        {
          "output_type": "stream",
          "name": "stdout",
          "text": [
            "My name is Erika, I am 10 years old, and I live in Mt. Pleasant.\n"
          ]
        }
      ]
    },
    {
      "cell_type": "code",
      "source": [
        "# Older style, but with a list \n",
        "print('My name is {name}, I am {age} years old, and I live in {neighborhood}.'.format(\n",
        "    age=10, name='Erika', neighborhood='Mt. Pleasant'))"
      ],
      "metadata": {
        "colab": {
          "base_uri": "https://localhost:8080/"
        },
        "id": "umq8q-zeK3uK",
        "outputId": "3cb80b0f-6abc-42a1-c00f-34f5d499eeb0"
      },
      "execution_count": 5,
      "outputs": [
        {
          "output_type": "stream",
          "name": "stdout",
          "text": [
            "My name is Erika, I am 10 years old, and I live in Mt. Pleasant.\n"
          ]
        }
      ]
    },
    {
      "cell_type": "markdown",
      "source": [
        "## Newest Method \n",
        "\n",
        "In Python 3.6, f-strings (short for [formatted string literals](https://docs.python.org/3/tutorial/inputoutput.html#tut-f-strings)) were introduced. With this syntax, the string is prefaced with `f` or `F`, and expressions are wrapped in braces as `{expression}`. We highly recommend this syntax for more readable, more concise, less error-prone, and faster string formatting! "
      ],
      "metadata": {
        "id": "Ka5eT0m6LyO0"
      }
    },
    {
      "cell_type": "code",
      "source": [
        "# New style - included in Python 3.6+  \n",
        "print(f'My name is {name}, I am {age} years old, and I live in {neighborhood}.')"
      ],
      "metadata": {
        "colab": {
          "base_uri": "https://localhost:8080/"
        },
        "id": "nFc5lOX8Jqku",
        "outputId": "48b24da1-adaf-4c51-cdbe-4f3f16beb411"
      },
      "execution_count": 6,
      "outputs": [
        {
          "output_type": "stream",
          "name": "stdout",
          "text": [
            "My name is Erika, I am 10 years old, and I live in Mt. Pleasant.\n"
          ]
        }
      ]
    }
  ]
}